{
 "cells": [
  {
   "cell_type": "markdown",
   "metadata": {},
   "source": [
    "<h1>Background and Assumptions</h1>\n",
    "\n",
    "<h2>The Seto Model</h2><br/>\n",
    "\n",
    "Assumption: At the grain boundaries (GB) a population of filled and charged strap states exist within the band gap. This causes the conduction band to bend upwards at each GB forming a barrier to charge transport.\n",
    "\n",
    "<h3>Expression for iter-grain mobility $\\mu_{ig}$</h3>\n",
    "\n",
    "\n",
    "\\begin{equation}\n",
    "\\mu_{ig} = \\mu_0\\exp\\left(-\\frac{\\Phi_B}{k_BT}\\right)\n",
    "\\end{equation}\n",
    "\n",
    "where,\n",
    "\n",
    "$$\\Phi_B = \\frac{e^2n_t^2}{8\\varepsilon_{\\infty}\\varepsilon_0n_e}$$\n",
    "    - $\\Phi_B$ is the barrier  height at the GB\n",
    "    - $n_t$ is the trap density - units cm$^{-2}$\n",
    "$$\\mu_0 = \\frac{L}{\\sqrt{2\\pi m_ek_BT}}$$\n",
    "    - $\\mu_0$ is intra-grain mobility\n",
    "    - $L$ is grain size\n",
    "    \n",
    "<h3>Expression for effective mobility $\\mu_{eff}$</h3><br/>\n",
    "In a real film the mobility will be limited by ionized impurity scattering. We'll assume that the level of scattering is independent of carrier concentration for the time being (it isn't!) and define a constant upper limit to the mobility, $\\mu_{ii}$. We combine $\\mu_{ig}$ and $\\mu_{ii}$ according to:\n",
    "\n",
    "$$\\frac{1}{\\mu_{eff}} = \\frac{1}{\\mu_{ig}} + \\frac{1}{\\mu_{ii}}$$\n",
    "\n",
    "<h2>The Extended Seto Model</h2>\n",
    "    \n",
    "\n",
    "\n"
   ]
  },
  {
   "cell_type": "code",
   "execution_count": 1,
   "metadata": {
    "collapsed": false
   },
   "outputs": [
    {
     "name": "stdout",
     "output_type": "stream",
     "text": [
      "Populating the interactive namespace from numpy and matplotlib\n"
     ]
    }
   ],
   "source": [
    "%pylab inline"
   ]
  },
  {
   "cell_type": "code",
   "execution_count": 2,
   "metadata": {
    "collapsed": false
   },
   "outputs": [],
   "source": [
    "#get the data\n",
    "import csv\n",
    "f = open('cheat.csv', 'rb') #open file for reading\n",
    "reader = csv.reader(f)\n",
    "headers = reader.next() #get file headers\n",
    "\n",
    "#read data to list\n",
    "data = []\n",
    "for line in reader:\n",
    "    data.append(line)\n",
    "    \n",
    "#transpose data into columns\n",
    "data = [[float(y) for y in x] for x in transpose(data)]\n",
    "\n",
    "x = data[0]\n",
    "n = data[1]\n",
    "mu = data[2]\n"
   ]
  },
  {
   "cell_type": "code",
   "execution_count": 6,
   "metadata": {
    "collapsed": true
   },
   "outputs": [],
   "source": [
    "#define constants to be used\n",
    "\n",
    "e = 1.602e-19 #electronic charge\n",
    "permInf = 8.3 #permittivity for single crystal ZnO\n",
    "permZero = 8.85e-12 #permittivity of free space\n",
    "me = 0.35 #effective mass\n",
    "mzero = 9.11e-31 #electron mass\n",
    "kB = 1.38e-23 #Boltzmann\n",
    "T = 300 #Kelvin\n",
    "hbar = 1.055e-34"
   ]
  },
  {
   "cell_type": "code",
   "execution_count": 7,
   "metadata": {
    "collapsed": false,
    "scrolled": true
   },
   "outputs": [
    {
     "data": {
      "image/png": "[encoded data removed]",
      "text/plain": [
       "<matplotlib.figure.Figure at 0x7f6b404e42d0>"
      ]
     },
     "metadata": {},
     "output_type": "display_data"
    }
   ],
   "source": [
    "from ipywidgets import *\n",
    "\n",
    "\n",
    "def phiB(n, nt = 1.0e14):\n",
    "    '''Barrier Height'''\n",
    "    value = (e*nt)**2/(8*permInf*permZero*n) \n",
    "    return value\n",
    "\n",
    "def muZero(L = 5):\n",
    "    '''intra-grain mobility'''\n",
    "    value = L*1e-9/sqrt(2*pi*me*kB*T) #L converted to cm here using factor 1e-7\n",
    "    return value\n",
    "\n",
    "def muig(n, nt=1, L=5):\n",
    "    '''iter-grain mobility'''\n",
    "    units=1e14 #cm^-3\n",
    "    value = muZero(L)*exp(-(phiB(n, nt*units))/(kB*T))\n",
    "    return value\n",
    "\n",
    "def museto(muii, nt, L):\n",
    "    '''Effective Mobility\n",
    "       Limited by ionized impurity scattering\n",
    "       Constant value of muii used as approximation'''\n",
    "    value = ((1/muig(ne, nt, L)) + 1/muii)**-1\n",
    "    return value\n",
    "\n",
    "def setoPlot(muii, nt, L):\n",
    "    plot(ne, museto(muii, nt, L), label='$\\mu_{eff}$')\n",
    "    plot(ne, [muii]*len(ne), '--', label='$\\mu_{ii}$')\n",
    "    #plot(ne, [muZero(L)]*len(ne), label='$\\mu_0$')\n",
    "    plot(ne, muig(ne, nt, L), '--', label='$\\mu_{ig}$')\n",
    "    plot(array(n), mu, 'o', color='red')\n",
    "    xlabel(headers[1])\n",
    "    ylabel(headers[2])\n",
    "    legend(loc=2)\n",
    "    ylim([0,60])\n",
    "    \n",
    "def bmShift(ne):\n",
    "    '''Returns BM-shift in eV'''\n",
    "    value = hbar**2*(3*pi**2*ne*1e6)**(2.0/3)/(2*me*mzero)\n",
    "    return value\n",
    "\n",
    "def mubm(n, nt=1, L=5, RN=1):\n",
    "    '''iter-grain mobility'''\n",
    "    units=1e14 #cm^-3\n",
    "    value = muZero(L)*exp((bmShift(n) +RN*e -2*phiB(n, nt*units))/(kB*T))\n",
    "    return value\n",
    "\n",
    "def muext(muii, nt, L, RN):\n",
    "    '''Effective Mobility for extended Seto model\n",
    "       Limited by ionized impurity scattering\n",
    "       Constant value of muii used as approximation'''\n",
    "    value = ((1/(muig(ne, nt, L)+(mubm(ne, nt, L, RN)))) + 1/muii)**-1\n",
    "    #value = ((1/(muig(ne, nt, L))) + 1/muii)**-1\n",
    "    return value\n",
    "\n",
    "def extSetoPlot(muii, nt, L, RN):\n",
    "    fig = figure(figsize=(8,6))\n",
    "    ax = fig.add_subplot(111)\n",
    "    ax.plot(ne, muext(muii, nt, L, RN), label='$\\mu_{Ext}$')\n",
    "    ax.plot(ne, museto(muii, nt, L), label='$\\mu_{Seto}$')\n",
    "    ax.plot(ne, [muii]*len(ne), '--', label='$\\mu_{ii}$')\n",
    "    \n",
    "    ax.plot(array(n), mu, 'o', color='red')\n",
    "    ax.set_xlabel(headers[1], fontsize=20)\n",
    "    ax.set_ylabel(headers[2], fontsize = 20)\n",
    "    ax.legend(loc=2, fontsize = 15)\n",
    "    ax.set_ylim([0,50])\n",
    "    \n",
    "    \n",
    "#define carrier conc. range of interest   \n",
    "ne = arange(0.5, 5, 0.1)*1e20   \n",
    "\n",
    "#bind sliders to variables\n",
    "nt_slider = FloatSlider(min=0.1, max=10, step=0.01, value=2.2)\n",
    "L_slider = FloatSlider(min=1, max=100, step=0.01, value = 15)\n",
    "muii_slider = FloatSlider(min=0.001, max=100, step = 1, value = 42)\n",
    "RN_slider = FloatSlider(min=-1, max=0, step = 0.01, value = -0.5)\n",
    "\n",
    "\n",
    "\n",
    "#generate interactive plot\n",
    "\n",
    "interactive(extSetoPlot, nt=nt_slider, L=L_slider, muii=muii_slider, RN=RN_slider)\n"
   ]
  },
  {
   "cell_type": "code",
   "execution_count": 9,
   "metadata": {
    "collapsed": false
   },
   "outputs": [
    {
     "data": {
      "text/plain": [
       "array([ 0.14152071,  0.1598113 ,  0.17710821,  0.19359761,  0.20941205,\n",
       "        0.22465012,  0.23938767,  0.25368463,  0.26758939,  0.28114175,\n",
       "        0.29437494,  0.30731704,  0.31999211,  0.3324209 ,  0.34462152,\n",
       "        0.35660984,  0.36839991,  0.38000424,  0.391434  ,  0.40269925,\n",
       "        0.41380906,  0.42477168,  0.43559461,  0.44628471,  0.45684827,\n",
       "        0.46729108,  0.47761848,  0.4878354 ,  0.49794642,  0.50795581,\n",
       "        0.51786754,  0.52768529,  0.53741255,  0.54705256,  0.55660836,\n",
       "        0.56608283,  0.57547867,  0.58479841,  0.59404447,  0.60321913,\n",
       "        0.61232454,  0.62136275,  0.63033569,  0.63924521,  0.64809307])"
      ]
     },
     "execution_count": 9,
     "metadata": {},
     "output_type": "execute_result"
    }
   ],
   "source": [
    "bmShift(ne)/e"
   ]
  },
  {
   "cell_type": "code",
   "execution_count": null,
   "metadata": {
    "collapsed": true
   },
   "outputs": [],
   "source": []
  }
 ],
 "metadata": {
  "kernelspec": {
   "display_name": "Python 2",
   "language": "python",
   "name": "python2"
  },
  "language_info": {
   "codemirror_mode": {
    "name": "ipython",
    "version": 2
   },
   "file_extension": ".py",
   "mimetype": "text/x-python",
   "name": "python",
   "nbconvert_exporter": "python",
   "pygments_lexer": "ipython2",
   "version": "2.7.6"
  }
 },
 "nbformat": 4,
 "nbformat_minor": 0
}
